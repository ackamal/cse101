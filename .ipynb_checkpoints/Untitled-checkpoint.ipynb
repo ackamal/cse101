{
 "cells": [
  {
   "cell_type": "code",
   "execution_count": 4,
   "metadata": {},
   "outputs": [],
   "source": [
    "def gradeschool_mult(x,y):\n",
    "    '''Multiply two integers via gradeschool algorithm.'''\n",
    "    x = str(x);  \n",
    "    z = 0\n",
    "    for i in range(len(x)):\n",
    "        z += 10**i*int(x[len(x)-1-i])*y\n",
    "   \n",
    "    return z"
   ]
  },
  {
   "cell_type": "code",
   "execution_count": 5,
   "metadata": {},
   "outputs": [],
   "source": [
    "def gradeschool_mult(x,y):\n",
    "    if x<10 or y<10: return x*y\n",
    "    x = str(x); y = str(y); \n",
    "    # convert to string of 0/1's, MSB first\n",
    "    n = max(len(x),len(y))\n",
    "    x = \"0\"*(n-len(x))+x; y = \"0\"*(n-len(y))+y # add leading zeroes if needed\n",
    "    m = n//2\n",
    "    xtop = int(x[:-m]); xbot = int(x[-m:])\n",
    "    ytop = int(y[:-m]); ybot = int(y[-m:])\n",
    "    return 10**(2*m)*gradeschool_mult(xtop,ytop)+10**m*(gradeschool_mult(xtop,ybot)+gradeschool_mult(xbot,ytop))+gradeschool_mult(xbot,ybot)"
   ]
  },
  {
   "cell_type": "code",
   "execution_count": 6,
   "metadata": {},
   "outputs": [
    {
     "data": {
      "text/plain": [
       "42189"
      ]
     },
     "execution_count": 6,
     "metadata": {},
     "output_type": "execute_result"
    }
   ],
   "source": [
    "gradeschool_mult(123,343)"
   ]
  },
  {
   "cell_type": "code",
   "execution_count": 7,
   "metadata": {},
   "outputs": [],
   "source": [
    "def karatsuba_mult(x,y):\n",
    "    '''Multiply two simlar length integers via karatsuba algorithm.'''\n",
    "    if x<100 or y<100: return x*y\n",
    "    x = str(x); y = str(y); \n",
    "    # convert to string of 0/1's, MSB first\n",
    "    n = max(len(x),len(y))\n",
    "    x = \"0\"*(n-len(x))+x; y = \"0\"*(n-len(y))+y # add leading zeroes if needed\n",
    "    m = n//2\n",
    "    xtop = int(x[:-m]); xbot = int(x[-m:])\n",
    "    ytop = int(y[:-m]); ybot = int(y[-m:])\n",
    "    return (10**(2*m)-10**m)*karatsuba_mult(xtop,ytop)+(10**m)*karatsuba_mult(xtop+xbot,ytop+ybot) +(1-10**m)*karatsuba_mult(xbot,ybot)"
   ]
  },
  {
   "cell_type": "code",
   "execution_count": 8,
   "metadata": {},
   "outputs": [
    {
     "data": {
      "text/plain": [
       "42760785998990549"
      ]
     },
     "execution_count": 8,
     "metadata": {},
     "output_type": "execute_result"
    }
   ],
   "source": [
    "karatsuba_mult(12342323,3464565463)"
   ]
  },
  {
   "cell_type": "code",
   "execution_count": 9,
   "metadata": {},
   "outputs": [
    {
     "data": {
      "text/plain": [
       "42760785998990549"
      ]
     },
     "execution_count": 9,
     "metadata": {},
     "output_type": "execute_result"
    }
   ],
   "source": [
    "12342323* 3464565463"
   ]
  },
  {
   "cell_type": "code",
   "execution_count": 10,
   "metadata": {},
   "outputs": [],
   "source": [
    "input_lengths  = [2**i for i in range(5,16,2)]\n",
    "gradeschool_times = {}\n",
    "karatsuba_times = {}"
   ]
  },
  {
   "cell_type": "code",
   "execution_count": null,
   "metadata": {},
   "outputs": [],
   "source": [
    "import random\n",
    "for n in input_lengths:\n",
    "    x = random.randrange(10**n)\n",
    "    y = random.randrange(10**n)\n",
    "    r = x*y\n",
    "    #print(r)\n",
    "    print(f\"Gradeschool n = {n}\")\n",
    "    foo =  %timeit -o -r1 -n1 gradeschool_mult(x,y)\n",
    "    print(f\"Karatsuba n = {n}\")\n",
    "    bar = %timeit -o -r1 -n1 karatsuba_mult(x,y)\n",
    "    gradeschool_times[n] = foo\n",
    "    karatsuba_times[n] = bar"
   ]
  },
  {
   "cell_type": "code",
   "execution_count": 12,
   "metadata": {},
   "outputs": [
    {
     "ename": "NameError",
     "evalue": "name 'pprint' is not defined",
     "output_type": "error",
     "traceback": [
      "\u001b[0;31m---------------------------------------------------------------------------\u001b[0m",
      "\u001b[0;31mNameError\u001b[0m                                 Traceback (most recent call last)",
      "\u001b[0;32m<ipython-input-12-67a8405ade10>\u001b[0m in \u001b[0;36m<module>\u001b[0;34m\u001b[0m\n\u001b[1;32m      6\u001b[0m \u001b[0mka_times\u001b[0m \u001b[0;34m=\u001b[0m \u001b[0;34m[\u001b[0m\u001b[0mt\u001b[0m\u001b[0;34m.\u001b[0m\u001b[0mbest\u001b[0m \u001b[0;32mfor\u001b[0m \u001b[0mt\u001b[0m \u001b[0;32min\u001b[0m \u001b[0mka_times\u001b[0m\u001b[0;34m]\u001b[0m\u001b[0;34m\u001b[0m\u001b[0;34m\u001b[0m\u001b[0m\n\u001b[1;32m      7\u001b[0m \u001b[0;34m\u001b[0m\u001b[0m\n\u001b[0;32m----> 8\u001b[0;31m \u001b[0mpprint\u001b[0m\u001b[0;34m.\u001b[0m\u001b[0mpprint\u001b[0m\u001b[0;34m(\u001b[0m\u001b[0mgs_times\u001b[0m\u001b[0;34m)\u001b[0m\u001b[0;34m\u001b[0m\u001b[0;34m\u001b[0m\u001b[0m\n\u001b[0m",
      "\u001b[0;31mNameError\u001b[0m: name 'pprint' is not defined"
     ]
    }
   ],
   "source": [
    "import pprint\n",
    "\n",
    "gs_lengths, gs_times = zip(*sorted(gradeschool_times.items())) # unpack a list of pairs into two tuples\n",
    "\n",
    "ka_lengths, ka_times =  zip(*sorted(karatsuba_times.items()))\n",
    "\n",
    "gs_times = [t.best for t in gs_times]\n",
    "ka_times = [t.best for t in ka_times]\n",
    "\n",
    "pprint.pprint(gs_times)"
   ]
  },
  {
   "cell_type": "code",
   "execution_count": null,
   "metadata": {},
   "outputs": [],
   "source": [
    "import pprint\n",
    "pprint.pprint(gs_times)\n",
    "pprint.pprint(ka_times)"
   ]
  },
  {
   "cell_type": "code",
   "execution_count": null,
   "metadata": {},
   "outputs": [],
   "source": [
    "import matplotlib.pyplot as plt\n",
    "\n",
    "gs_lengths, gs_times = zip(*sorted(gradeschool_times.items())) # unpack a list of pairs into two tuples\n",
    "\n",
    "ka_lengths, ka_times =  zip(*sorted(karatsuba_times.items()))\n",
    "\n",
    "gs_times = [t.best for t in gs_times]\n",
    "ka_times = [t.best for t in ka_times]\n",
    "\n",
    "line1, line2 = plt.plot(gs_lengths, gs_times, 'r--', ka_lengths, ka_times, 'b--')\n",
    "plt.xlabel('input length')\n",
    "plt.ylabel('time (secs, log scale)')\n",
    "plt.yscale('log')\n",
    "plt.legend([line1,line2],['Gradeschool','Karatsuba'])\n",
    "plt.show()"
   ]
  },
  {
   "cell_type": "code",
   "execution_count": null,
   "metadata": {},
   "outputs": [],
   "source": []
  }
 ],
 "metadata": {
  "kernelspec": {
   "display_name": "Python 3",
   "language": "python",
   "name": "python3"
  },
  "language_info": {
   "codemirror_mode": {
    "name": "ipython",
    "version": 3
   },
   "file_extension": ".py",
   "mimetype": "text/x-python",
   "name": "python",
   "nbconvert_exporter": "python",
   "pygments_lexer": "ipython3",
   "version": "3.6.7"
  }
 },
 "nbformat": 4,
 "nbformat_minor": 2
}
